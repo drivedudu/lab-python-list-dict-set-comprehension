{
 "cells": [
  {
   "cell_type": "markdown",
   "id": "25d7736c-ba17-4aff-b6bb-66eba20fbf4e",
   "metadata": {},
   "source": [
    "# Lab | List, Dict and Set Comprehension"
   ]
  },
  {
   "cell_type": "markdown",
   "id": "7dd3cbde-675a-4b81-92c3-f728846dbe06",
   "metadata": {},
   "source": [
    "## Exercise: Managing Customer Orders Optimized with Comprehension"
   ]
  },
  {
   "cell_type": "markdown",
   "id": "5d500160-2fb7-4777-b5e4-09d45ebaf328",
   "metadata": {},
   "source": [
    "In the previous exercise, you developed a program to manage customer orders and inventory. Now, let's take it a step further and incorporate comprehension into your code.\n",
    "\n",
    "Follow the steps below to complete the exercise:\n",
    "\n",
    "1. Review your code from the previous exercise and identify areas where you can apply comprehension to simplify and streamline your code. \n",
    "\n",
    "    - *Hint: Apply it to initialize inventory, updating the inventory and printing the updated inventory.*\n",
    "    \n",
    "    - For example, in initializing the inventory, we could have:\n",
    "    \n",
    "        ```python\n",
    "        def initialize_inventory(products):\n",
    "            inventory = {product: int(input(f\"Enter the quantity of {product}s available: \")) for product in products}\n",
    "            return inventory\n",
    "\n",
    "        ```\n",
    "<br>\n",
    "    \n",
    "    \n",
    "2. Modify the function get_customer_orders so it prompts the user to enter the number of customer orders and gathers the product names using a loop and user input. Use comprehension.\n",
    "\n",
    "3. Add a new function to calculate the total price of the customer order. For each product in customer_orders, prompt the user to enter the price of that product. Use comprehension to calculate the total price. Note: assume that the user can only have 1 unit of each product.\n",
    "\n",
    "4. Modify the update_inventory function to remove the product from the inventory if its quantity becomes zero after fulfilling the customer orders. Use comprehension to filter out the products with a quantity of zero from the inventory.\n",
    "\n",
    "5. Print the total price of the customer order.\n",
    "\n",
    "Your code should produce output similar to the following:\n",
    "\n",
    "```python\n",
    "Enter the quantity of t-shirts available:  5\n",
    "Enter the quantity of mugs available:  4\n",
    "Enter the quantity of hats available:  3\n",
    "Enter the quantity of books available:  2\n",
    "Enter the quantity of keychains available:  1\n",
    "Enter the number of customer orders:  2\n",
    "Enter the name of a product that a customer wants to order:  hat\n",
    "Enter the name of a product that a customer wants to order:  keychain\n",
    "\n",
    "Order Statistics:\n",
    "Total Products Ordered: 2\n",
    "Percentage of Unique Products Ordered: 40.0\n",
    "\n",
    "Updated Inventory:\n",
    "t-shirt: 5\n",
    "mug: 4\n",
    "hat: 2\n",
    "book: 2\n",
    "Enter the price of keychain:  5\n",
    "Enter the price of hat:  10\n",
    "Total Price: 15.0\n",
    "\n",
    "```\n"
   ]
  },
  {
   "cell_type": "code",
   "execution_count": 164,
   "id": "4118b924",
   "metadata": {},
   "outputs": [],
   "source": [
    "products = [\"t-shirt\", \"mug\", \"hat\", \"book\", \"keychain\"]"
   ]
  },
  {
   "cell_type": "code",
   "execution_count": 165,
   "id": "cb283870",
   "metadata": {},
   "outputs": [],
   "source": [
    "def initialize_inventory(productsx):\n",
    "    inventory = {product: int(input(f\"Enter the quantity of {product}s available: \")) for product in productsx}\n",
    "   \n",
    "    return inventory\n"
   ]
  },
  {
   "cell_type": "code",
   "execution_count": 166,
   "id": "51687e38",
   "metadata": {},
   "outputs": [],
   "source": [
    "def get_customer_orders():\n",
    "    number_orders = int(input(\"Enter the numer of customer orders: \"))\n",
    "    customer_orders = {input(\"Enter the name of a product that a customer wants to order: \") for item in range(number_orders)} \n",
    "    return customer_orders "
   ]
  },
  {
   "cell_type": "code",
   "execution_count": 167,
   "id": "a478a511",
   "metadata": {},
   "outputs": [],
   "source": [
    "def update_inventory(customer_ordersx,inventoryx):\n",
    "    print(\"The inventory was updated:\")\n",
    "    inventoryx = {update: (inventoryx[update] - 1 if inventoryx[update] > 0 else inventoryx.pop(update)) for update in customer_ordersx}"
   ]
  },
  {
   "cell_type": "code",
   "execution_count": 168,
   "id": "edb09db1",
   "metadata": {},
   "outputs": [],
   "source": [
    "def calculate_order_total(customer_ordersx):\n",
    "    order_total = sum(float(input(f\"Enter the price of {item}: \")) for item in customer_ordersx)\n",
    "    return order_total"
   ]
  },
  {
   "cell_type": "code",
   "execution_count": 169,
   "id": "8a2e5a18",
   "metadata": {},
   "outputs": [],
   "source": [
    "def calculate_order_statistics(customer_ordersx, productsx):\n",
    "    total_perct = (len(customer_ordersx)/len(productsx) * 100)\n",
    "    order_status = (len(customer_ordersx), total_perct)\n",
    "    return order_status"
   ]
  },
  {
   "cell_type": "code",
   "execution_count": 170,
   "id": "626f9222",
   "metadata": {},
   "outputs": [],
   "source": [
    "def print_order_statistics(order_statisticsx):\n",
    "    print(\"Customer orders:\", \", \".join(customer_orders))\n",
    "    print()\n",
    "    print(\"Order Statistics:\")\n",
    "    print(\"Total Products Ordered: \" + str(order_statisticsx[0]))\n",
    "    print(f\"Percentage of Products Ordered:{order_statisticsx[1]}%\")\n",
    "    print()\n",
    "    "
   ]
  },
  {
   "cell_type": "code",
   "execution_count": 171,
   "id": "c4a6bba0",
   "metadata": {},
   "outputs": [],
   "source": [
    "def print_updated_inventory(inventoryx):\n",
    "    for name, stock in inventoryx.items():\n",
    "        print(f\"{name} stock: {stock}\")\n",
    " "
   ]
  },
  {
   "cell_type": "code",
   "execution_count": 172,
   "id": "8d49dafc",
   "metadata": {},
   "outputs": [
    {
     "name": "stdout",
     "output_type": "stream",
     "text": [
      "Customer orders: hat, mug\n",
      "\n",
      "Order Statistics:\n",
      "Total Products Ordered: 2\n",
      "Percentage of Products Ordered:40.0%\n",
      "\n",
      "Total price 154.0 \n",
      "\n",
      "The inventory was updated:\n",
      "t-shirt stock: 7\n",
      "mug stock: 8\n",
      "hat stock: 9\n",
      "book stock: 6\n",
      "keychain stock: 5\n"
     ]
    }
   ],
   "source": [
    "inventory = initialize_inventory(products)\n",
    "customer_orders = get_customer_orders()\n",
    "\n",
    "order_statistics = calculate_order_statistics(customer_orders, products)\n",
    "order_total = calculate_order_total(customer_orders)\n",
    "print_order_statistics(order_statistics)\n",
    "print(f'Total price {order_total} \\n')\n",
    "\n",
    "\n",
    "update_inventory(customer_orders,inventory)\n",
    "print_updated_inventory(inventory)\n"
   ]
  }
 ],
 "metadata": {
  "kernelspec": {
   "display_name": "Python 3 (ipykernel)",
   "language": "python",
   "name": "python3"
  },
  "language_info": {
   "codemirror_mode": {
    "name": "ipython",
    "version": 3
   },
   "file_extension": ".py",
   "mimetype": "text/x-python",
   "name": "python",
   "nbconvert_exporter": "python",
   "pygments_lexer": "ipython3",
   "version": "3.11.7"
  }
 },
 "nbformat": 4,
 "nbformat_minor": 5
}
